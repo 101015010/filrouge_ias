{
 "cells": [
  {
   "cell_type": "markdown",
   "id": "31d72cf6",
   "metadata": {},
   "source": [
    "<h3>Typage et Entrée/Sortie</h3> \n",
    "\n",
    "un patient = une liste [durée d'intervention,chirurgien,jour d'opération,durée en sspi réveil et entrée]\n",
    "\n",
    "on convertit cette liste une une liste de durée sur chaque machine. Il y'a 4 machines.\n",
    "M0=brancardage, M1=SSPI entrée, M2 = ALR, M3=bloc, M4 = SSPI réveil.\n",
    "\n",
    "ordo = [[1,3,4,2,3],[1,3,1,4,1],...]\n",
    "On applique l'algorithme d'ordonnancement : \n",
    "    algo(liste de listes de durée) -> (liste de listes de durée)\n",
    "\n",
    "On applique l'algorithme de lecture : \n",
    "    lecture(liste de listes) -> (liste de listes d'horaire de début, liste de listes de durée)"
   ]
  },
  {
   "cell_type": "markdown",
   "id": "9e7bbc2f",
   "metadata": {},
   "source": [
    "<h3> Fonction de lecture et de calcul de coût </h3>"
   ]
  },
  {
   "cell_type": "code",
   "execution_count": 61,
   "id": "a21d9fcc",
   "metadata": {},
   "outputs": [],
   "source": [
    "#La lecture enchaine les opérations au bloc avec 10 minutes d'écarts (Nettoyage du bloc)\n",
    "#Le principe est de faire en sorte que le brancardage et SSPI d'entrée soit fait pile à tant pour l'opération \n",
    "\n",
    "def Lecture(ordo, h0): \n",
    "    liste = [[h0-ordo[0][0]-ordo[0][1], h0-ordo[0][1], h0, h0 + ordo[0][2]]]\n",
    "    n = len(ordo)\n",
    "    i = 1\n",
    "    while i < n : \n",
    "        tBlocLibre = liste[-1][2] + ordo[i-1][2] + 10 #10 minutes après la fin de l'opération précédente \n",
    "        li = [tBlocLibre-ordo[i][0]-ordo[i][1], tBlocLibre-ordo[i][1], tBlocLibre, tBlocLibre+ordo[i][2]]\n",
    "        liste.append(li)\n",
    "        i+=1\n",
    "    return liste\n",
    "             \n",
    "# Calcul le cout temporel total (du premier brancardage au dernier réveil en SSPI) \n",
    "# et le temps passé en bloc (de h0 à sorti de la dernière opération)\n",
    "def cout(ordo): \n",
    "    liste = Lecture(ordo, 0)\n",
    "    debutPremierActe = 0 \n",
    "    finDernierActe = 0 \n",
    "    ifinal = 0 \n",
    "    \n",
    "    for i in range (len(liste)) : \n",
    "        debutPremierActe = min(liste[i][0], debutPremierActe)\n",
    "        finDernierActe = max(liste[i][3]+ordo[i][3], finDernierActe)\n",
    "            \n",
    "    coutTotal = finDernierActe - debutPremierActe \n",
    "    coutBloc = liste[-1][3] \n",
    "    return coutTotal, coutBloc"
   ]
  },
  {
   "cell_type": "markdown",
   "id": "f42e9e17",
   "metadata": {},
   "source": [
    "<h4>Test de ces fonctions</h4>"
   ]
  },
  {
   "cell_type": "code",
   "execution_count": 69,
   "id": "d1867a9b",
   "metadata": {},
   "outputs": [
    {
     "data": {
      "text/plain": [
       "(370, 317)"
      ]
     },
     "execution_count": 69,
     "metadata": {},
     "output_type": "execute_result"
    }
   ],
   "source": [
    "ordo = [[10,15,40,30],[10,10,53,15],[5,20,23,40],[20,10,129,10],[10,12,32,28]]\n",
    "cout(ordo)"
   ]
  }
 ],
 "metadata": {
  "kernelspec": {
   "display_name": "Python 3 (ipykernel)",
   "language": "python",
   "name": "python3"
  },
  "language_info": {
   "codemirror_mode": {
    "name": "ipython",
    "version": 3
   },
   "file_extension": ".py",
   "mimetype": "text/x-python",
   "name": "python",
   "nbconvert_exporter": "python",
   "pygments_lexer": "ipython3",
   "version": "3.9.12"
  }
 },
 "nbformat": 4,
 "nbformat_minor": 5
}
