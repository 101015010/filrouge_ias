{
 "cells": [
  {
   "cell_type": "markdown",
   "id": "31d72cf6",
   "metadata": {},
   "source": [
    "<h3>Typage et Entrée/Sortie</h3> \n",
    "\n",
    "un patient = une liste [durée d'intervention,chirurgien,jour d'opération,durée en sspi réveil et entrée]\n",
    "\n",
    "on convertit cette liste une une liste de durée sur chaque machine. Il y'a 4 machines.\n",
    "M0=brancardage, M1=SSPI entrée, M2 = ALR, M3=bloc, M4 = SSPI réveil.\n",
    "\n",
    "ordo = [[1,3,4,2,3],[1,3,1,4,1],...]\n",
    "On applique l'algorithme d'ordonnancement : \n",
    "    algo(liste de listes de durée) -> (liste de listes de durée)\n",
    "\n",
    "On applique l'algorithme de lecture : \n",
    "    lecture(liste de listes) -> (liste de listes d'horaire de début, liste de listes de durée)"
   ]
  },
  {
   "cell_type": "code",
   "execution_count": 19,
   "id": "f8868da6",
   "metadata": {},
   "outputs": [],
   "source": [
    "import matplotlib.pyplot as plt\n",
    "import random\n",
    "import numpy as np\n",
    "import copy "
   ]
  },
  {
   "cell_type": "markdown",
   "id": "9e7bbc2f",
   "metadata": {},
   "source": [
    "<h3> Fonction de lecture et de calcul de coût </h3>"
   ]
  },
  {
   "cell_type": "code",
   "execution_count": null,
   "id": "a21d9fcc",
   "metadata": {},
   "outputs": [],
   "source": [
    "#La lecture enchaine les opérations au bloc avec 10 minutes d'écarts (Nettoyage du bloc)\n",
    "#Le principe est de faire en sorte que le brancardage et SSPI d'entrée soit fait pile à tant pour l'opération \n",
    "\n",
    "def Lecture(ordo, h0): \n",
    "    liste = [[h0-ordo[0][0]-ordo[0][1], h0-ordo[0][1], h0, h0 + ordo[0][2]]]\n",
    "    n = len(ordo)\n",
    "    i = 1\n",
    "    while i < n : \n",
    "        tBlocLibre = liste[-1][2] + ordo[i-1][2] + 10 #10 minutes après la fin de l'opération précédente \n",
    "        li = [tBlocLibre-ordo[i][0]-ordo[i][1], tBlocLibre-ordo[i][1], tBlocLibre, tBlocLibre+ordo[i][2]]\n",
    "        liste.append(li)\n",
    "        i+=1\n",
    "    return liste\n",
    "             \n",
    "# Calcul le cout temporel total (du premier brancardage au dernier réveil en SSPI) \n",
    "# et le temps passé en bloc (de h0 à sorti de la dernière opération)\n",
    "def cout(ordo): \n",
    "    liste = Lecture(ordo, 0)\n",
    "    debutPremierActe = 0 \n",
    "    finDernierActe = 0 \n",
    "    ifinal = 0 \n",
    "    \n",
    "    for i in range (len(liste)) : \n",
    "        debutPremierActe = min(liste[i][0], debutPremierActe)\n",
    "        finDernierActe = max(liste[i][3]+ordo[i][3], finDernierActe)\n",
    "            \n",
    "    coutTotal = finDernierActe - debutPremierActe \n",
    "    coutBloc = liste[-1][3] \n",
    "    return coutTotal, coutBloc"
   ]
  },
  {
   "cell_type": "code",
   "execution_count": 21,
   "id": "9a1d68c7",
   "metadata": {},
   "outputs": [],
   "source": [
    "def diagrammeGantt(ordo):\n",
    "    starts = Lecture(ordo,25)\n",
    "    couleurs = ['blue', 'red', 'green', 'yellow', 'black', 'purple', 'pink', 'orange', 'grey', 'brown']  # Couleurs pour les tâches\"\n",
    "    Machines = [\"Brancardage\", \"SSPI Entrée\", \"Bloc\", \"SSPI Réveil\"]\n",
    "\n",
    "    fig, ax = plt.subplots(figsize=(10, 6))\n",
    "    \n",
    "    for indicePatient, patient in enumerate(ordo):\n",
    "        for i, tempsTache in enumerate(patient):\n",
    "            ax.barh(f'{Machines[i]}', tempsTache, left=starts[indicePatient][i], color=couleurs[indicePatient%10])\n",
    "\n",
    "    ax.set_xlabel('Temps')\n",
    "    ax.set_ylabel('Machines')\n",
    "    ax.set_title('Diagramme de Gantt')\n",
    "    ax.invert_yaxis()  # Inverser l'axe Y pour avoir la machine 1 en haut\n",
    "\n",
    "    plt.show()"
   ]
  },
  {
   "cell_type": "markdown",
   "id": "3509ecc4",
   "metadata": {},
   "source": [
    "## Générateur d'ensemble de patients "
   ]
  },
  {
   "cell_type": "code",
   "execution_count": 22,
   "id": "7c35b1c4",
   "metadata": {},
   "outputs": [],
   "source": [
    "def Generateur(N): \n",
    "    ensemblePatient = []\n",
    "    for _ in range (N):\n",
    "        patient = [random.randint(2,30), random.randint(10,30), random.randint(10, 200), random.randint(10,60)]\n",
    "        ensemblePatient.append(patient)\n",
    "    \n",
    "    return ensemblePatient      "
   ]
  },
  {
   "cell_type": "markdown",
   "id": "f42e9e17",
   "metadata": {},
   "source": [
    "<h4>Test de ces fonctions</h4>"
   ]
  },
  {
   "cell_type": "code",
   "execution_count": 23,
   "id": "d1867a9b",
   "metadata": {},
   "outputs": [
    {
     "data": {
      "image/png": "[encoded data removed]",
      "text/plain": [
       "<Figure size 1000x600 with 1 Axes>"
      ]
     },
     "metadata": {},
     "output_type": "display_data"
    }
   ],
   "source": [
    "ordo = Generateur(200)\n",
    "Lecture(ordo, 25)\n",
    "diagrammeGantt(ordo)"
   ]
  },
  {
   "cell_type": "markdown",
   "id": "fdf47807",
   "metadata": {},
   "source": [
    "# Algorithme Génétique "
   ]
  },
  {
   "cell_type": "code",
   "execution_count": 28,
   "id": "9367e83e",
   "metadata": {},
   "outputs": [],
   "source": [
    "#Ensemble de fonctions intermédiaires \n",
    "\n",
    "def PopulationInitiale(ordo, N): \n",
    "    n = len(ordo)\n",
    "    listeNpermutations = []\n",
    "    for _ in range (N): \n",
    "        ordoPermut = copy.deepcopy(ordo)\n",
    "        random.shuffle(ordoPermut)\n",
    "        listeNpermutations.append(ordoPermut)\n",
    "        \n",
    "    return listeNpermutations\n",
    "    \n",
    "def Selection(population,N): #Selection Forte \n",
    "    population.sort(key=lambda x : cout(x)[0])\n",
    "    print(cout(population[0]))\n",
    "    return population[:N]\n",
    "\n",
    "def Selection2(population ,N): #Selection pondérée \n",
    "    population.sort(key=lambda x : cout(x)[0])\n",
    "    print(cout(population[0]))\n",
    "    selection = []\n",
    "    CoutMin = cout(population[0])[0]\n",
    "    i = 0 \n",
    "    Ninit = len(population)\n",
    "    while i < Ninit and len(selection)<N: \n",
    "        Cout = cout(population[i])[0]\n",
    "        prob = CoutMin/Cout\n",
    "        if random.random() < prob : \n",
    "            selection.append(population[i])\n",
    "        i+=1 \n",
    "    \n",
    "    while len(selection) < N : \n",
    "        selection.append(random.shuffle(population[0]))\n",
    "    \n",
    "    return population\n",
    "      \n",
    "    \n",
    "def Croisement(P1, P2): \n",
    "    k = len(P1)\n",
    "    if k <=3 : \n",
    "        if random.random()>=0.5 : return P1 \n",
    "        else : return P2\n",
    "        \n",
    "    else : \n",
    "        E1 = list.copy(P1)\n",
    "        E2 = list.copy(P2)\n",
    "        J = random.randint(0, k-3)\n",
    "        #récuperation des indices dans E2 correspondants aux gènes échangés avec E1\n",
    "        ListeIndiceGene = []\n",
    "        geneManquantE2 = E2[J:J+2]\n",
    "        geneManquantE2prime = E2[J:J+2]\n",
    "        \n",
    "        for j in range (J,J+2):\n",
    "            gene = E1[j]\n",
    "            i = 0 \n",
    "            bool = True\n",
    "            while i<k and bool : \n",
    "                if E2[i] == gene :\n",
    "                    if J <= i and i <=J+1 :\n",
    "                        if len(geneManquantE2) > 1 :geneManquantE2.pop(i-J)\n",
    "                        else : geneManquantE2 = []\n",
    "                            \n",
    "                    else : \n",
    "                        ListeIndiceGene.append(i)\n",
    "                    bool = False \n",
    "                i+=1\n",
    "        \n",
    "        #échange des gènes pour E2 \n",
    "        E2[J:J+2] = E1[J:J+2]\n",
    "        for gene in geneManquantE2 : \n",
    "            E2[ListeIndiceGene.pop(random.randint(0,len(ListeIndiceGene)-1))] = gene \n",
    "            \n",
    "        #récupération des indices dans E1 correspondants aux gènes échangés avec E2 \n",
    "        ListeIndiceGene = []\n",
    "        geneManquantE1 = E1[J:J+2]\n",
    "        \n",
    "        for gene in geneManquantE2prime :\n",
    "            i = 0 \n",
    "            bool = True\n",
    "            while i<k and bool : \n",
    "                if E1[i] == gene :\n",
    "                    if J <= i and i <=J+1 :\n",
    "                        if len(geneManquantE1) > 1 :geneManquantE1.pop(i-J)\n",
    "                        else : geneManquantE1 = []\n",
    " \n",
    "                    else : \n",
    "                        ListeIndiceGene.append(i)\n",
    "                    bool = False \n",
    "                i+=1\n",
    "                \n",
    "        #échange des gènes pour E1   \n",
    "\n",
    "        E1[J:J+2] = geneManquantE2prime\n",
    "        for gene in geneManquantE1 : \n",
    "            E1[ListeIndiceGene.pop(random.randint(0,len(ListeIndiceGene)-1))] = gene \n",
    "            \n",
    "    return E1,E2 \n",
    "\n",
    "\n",
    "\n",
    "def Mutation(p): \n",
    "    j = random.randint(1,len(p)-1) \n",
    "    geneJ = p[j]\n",
    "    p[j] = p[j-1]\n",
    "    p[j-1]= geneJ\n",
    "    return p\n",
    "\n",
    "#Algorithme Final \n",
    "\n",
    "def genetique(ordo, N, T, Pcross = 0.6, Pmut = 0.6): #N card de la population (paire)\n",
    "    t = 0 \n",
    "    population = PopulationInitiale(ordo,N)\n",
    "    \n",
    "    while t < T : \n",
    "        #selection des N meilleurs ordonnancements \n",
    "        selection = Selection2(population, N)\n",
    "        \n",
    "        #regroupement par paire\n",
    "        paireParIndex = []\n",
    "        reserve = list(range(N))\n",
    "        N2 = N//2\n",
    "        for i in range (N2): \n",
    "            coupleI = (reserve.pop(random.randint(0,len(reserve)-1)),reserve.pop(random.randint(0,len(reserve)-1)))\n",
    "            paireParIndex.append(coupleI)\n",
    "        \n",
    "        #Croisements  \n",
    "        populationIntermediaire = []\n",
    "        for I in paireParIndex : \n",
    "            E1,E2 = Croisement(selection[I[0]], selection[I[1]])\n",
    "            populationIntermediaire.append(E1)\n",
    "            populationIntermediaire.append(E2)\n",
    "            populationIntermediaire.append(selection[I[0]])\n",
    "            populationIntermediaire.append(selection[I[1]])\n",
    "                \n",
    "        \n",
    "        #Mutations \n",
    "        population = []\n",
    "        for p in populationIntermediaire :\n",
    "            population.append(Mutation(p))\n",
    "            population.append(p)\n",
    "        \n",
    "        t+=1 \n",
    "    \n",
    "    Cmax = cout(population[0])\n",
    "    index = 0\n",
    "    for i in range (1,len(population)): \n",
    "        CmaxPrime = cout(population[i])\n",
    "        \n",
    "        if CmaxPrime < Cmax : \n",
    "            Cmax = CmaxPrime\n",
    "            index = i \n",
    "        \n",
    "    return population[index]"
   ]
  },
  {
   "cell_type": "markdown",
   "id": "b240fefb",
   "metadata": {},
   "source": [
    "Test de l'algo"
   ]
  },
  {
   "cell_type": "code",
   "execution_count": 29,
   "id": "d0910748",
   "metadata": {},
   "outputs": [
    {
     "data": {
      "image/png": "[encoded data removed]",
      "text/plain": [
       "<Figure size 1000x600 with 1 Axes>"
      ]
     },
     "metadata": {},
     "output_type": "display_data"
    }
   ],
   "source": [
    "ordo = [[10,15,40,30],[10,10,53,15],[5,20,23,40],[20,10,129,10],[10,12,32,28]]\n",
    "Lecture(ordo, 25)\n",
    "diagrammeGantt(ordo)"
   ]
  },
  {
   "cell_type": "markdown",
   "id": "6c8778ea",
   "metadata": {},
   "source": [
    "# Algorithme Tabou"
   ]
  },
  {
   "cell_type": "code",
   "execution_count": 30,
   "id": "f15687e0",
   "metadata": {},
   "outputs": [],
   "source": [
    "import numpy as np\n",
    "import matplotlib.pyplot as plt"
   ]
  },
  {
   "cell_type": "code",
   "execution_count": 31,
   "id": "801a460f",
   "metadata": {},
   "outputs": [],
   "source": [
    "def tabou(ordo,nb_voisins=10,nb_iter=50,d=2):\n",
    "    p=0\n",
    "    liste_tabou=[]\n",
    "    def genere_voisin(sol):\n",
    "        sol_copy=sol.copy()\n",
    "        n1, n2 = np.random.choice(len(sol), 2, replace=False)\n",
    "        sol_copy[n1],sol_copy[n2]=sol_copy[n2],sol_copy[n1]\n",
    "        return sol_copy,n1,n2\n",
    "    k=0\n",
    "    while k<nb_iter:\n",
    "        p+=1\n",
    "        if p%2==0:\n",
    "            liste_tabou=[]\n",
    "        k+=1\n",
    "        liste_voisins=[]\n",
    "        for i in range (nb_voisins):\n",
    "            voisin,n1,n2=genere_voisin(ordo)\n",
    "            liste_voisins.append([voisin,n1,n2])\n",
    "            liste_voisins.sort(key=lambda x : cout(x[0])[0])\n",
    "        j=0\n",
    "        while (liste_voisins[j][1],liste_voisins[j][2]) in liste_tabou and j<len(liste_voisins)-1:\n",
    "            j+=1\n",
    "        if j==len(liste_voisins):\n",
    "            x,y,z=liste_voisins[0]\n",
    "            liste_tabou.append((z,y))   ### (on ajoute z,y et non pas y,z pour interdire le mouvement inverse)\n",
    "            ordo=x\n",
    "        else:\n",
    "            x,y,z=liste_voisins[j]\n",
    "            liste_tabou.append((z,y))\n",
    "            ordo=x\n",
    "    return ordo\n",
    "\n",
    "        "
   ]
  },
  {
   "cell_type": "markdown",
   "id": "962e4dc3",
   "metadata": {},
   "source": [
    "# test de l'algo"
   ]
  },
  {
   "cell_type": "code",
   "execution_count": 32,
   "id": "d37f6e55",
   "metadata": {},
   "outputs": [
    {
     "name": "stdout",
     "output_type": "stream",
     "text": [
      "nouvel ordo [[10, 10, 53, 15], [10, 15, 40, 30], [5, 20, 23, 40], [10, 12, 32, 28], [20, 10, 129, 10]] cout :  (347, 317)\n",
      "ancien ordo [[10, 15, 40, 30], [10, 10, 53, 15], [5, 20, 23, 40], [20, 10, 129, 10], [10, 12, 32, 28]] cout :  (370, 317)\n"
     ]
    }
   ],
   "source": [
    "l=tabou(ordo,10,50)\n",
    "\n",
    "\n",
    "print(\"nouvel ordo\",l,\"cout : \",cout(l))\n",
    "print(\"ancien ordo\",ordo,\"cout : \",cout(ordo))\n"
   ]
  },
  {
   "cell_type": "markdown",
   "id": "07bf6b2a",
   "metadata": {},
   "source": [
    "# influence des paramètres"
   ]
  },
  {
   "cell_type": "code",
   "execution_count": null,
   "id": "8e8139d9",
   "metadata": {},
   "outputs": [],
   "source": [
    "x=np.arange(2,20) ##nombre de voisins\n",
    "y=np.arange(1,10)  ##nombres d'itérations\n",
    "\n",
    "X,Y=np.meshgrid(x,y)\n",
    "\n",
    "def f(x,y):\n",
    "    return cout(tabou(ordo,x,50,y))[0]\n",
    "\n",
    "\n",
    "\n",
    "Z = np.array([[f(x_val, y_val) for x_val in x] for y_val in y])\n",
    "\n",
    "plt.contourf(X,Y,Z,100,cmap='magma')\n",
    "cbar=plt.colorbar()\n",
    "plt.xlabel(\"fréquence de vidage de la liste\")\n",
    "plt.ylabel(\"nombre d'itérations\")\n",
    "cbar.set_label(\"Cmax\")"
   ]
  },
  {
   "cell_type": "code",
   "execution_count": null,
   "id": "853e2c21",
   "metadata": {},
   "outputs": [],
   "source": [
    "NewOrdo = genetique(ordo,2,100)"
   ]
  },
  {
   "cell_type": "code",
   "execution_count": null,
   "id": "0f9da6e2",
   "metadata": {},
   "outputs": [],
   "source": [
    "cout(NewOrdo)"
   ]
  }
 ],
 "metadata": {
  "kernelspec": {
   "display_name": "Python 3 (ipykernel)",
   "language": "python",
   "name": "python3"
  },
  "language_info": {
   "codemirror_mode": {
    "name": "ipython",
    "version": 3
   },
   "file_extension": ".py",
   "mimetype": "text/x-python",
   "name": "python",
   "nbconvert_exporter": "python",
   "pygments_lexer": "ipython3",
   "version": "3.9.13"
  }
 },
 "nbformat": 4,
 "nbformat_minor": 5
}
