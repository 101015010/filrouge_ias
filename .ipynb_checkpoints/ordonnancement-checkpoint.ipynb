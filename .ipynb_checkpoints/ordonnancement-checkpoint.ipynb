{
 "cells": [
  {
   "cell_type": "raw",
   "id": "3771ae83",
   "metadata": {},
   "source": [
    "un patient = une liste [durée d'intervention,chirurgien,jour d'opération,durée en sspi réveil et entrée]\n",
    "\n",
    "on convertit cette liste une une liste de durée sur chaque machine. Il y'a 5 machines.\n",
    "M0=brancardage M1=SSPI entrée M2 = ALR M3=bloc M4 = SSPI réveille \n",
    "\n",
    "ordo = [[1,3,4,2,3],[1,3,1,4,1],...] "
   ]
  }
 ],
 "metadata": {
  "kernelspec": {
   "display_name": "Python 3 (ipykernel)",
   "language": "python",
   "name": "python3"
  },
  "language_info": {
   "codemirror_mode": {
    "name": "ipython",
    "version": 3
   },
   "file_extension": ".py",
   "mimetype": "text/x-python",
   "name": "python",
   "nbconvert_exporter": "python",
   "pygments_lexer": "ipython3",
   "version": "3.9.13"
  }
 },
 "nbformat": 4,
 "nbformat_minor": 5
}
