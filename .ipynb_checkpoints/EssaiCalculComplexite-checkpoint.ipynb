{
 "cells": [
  {
   "cell_type": "markdown",
   "id": "31d72cf6",
   "metadata": {},
   "source": [
    "# Fonctions d'ordonnancement"
   ]
  },
  {
   "cell_type": "code",
   "execution_count": 119,
   "id": "f8868da6",
   "metadata": {},
   "outputs": [],
   "source": [
    "import matplotlib.pyplot as plt\n",
    "import random as rd\n",
    "import numpy as np\n",
    "import copy "
   ]
  },
  {
   "cell_type": "markdown",
   "id": "9e7bbc2f",
   "metadata": {},
   "source": [
    "## Fonction de calcul de coût (avec Ressources) "
   ]
  },
  {
   "cell_type": "code",
   "execution_count": 120,
   "id": "a21d9fcc",
   "metadata": {},
   "outputs": [],
   "source": [
    "def gen_temps_restant(liste_ope):\n",
    "    res = copy.deepcopy(liste_ope)\n",
    "    return res\n",
    "\n",
    "def peutetreprisencharge(temps_restant,solution,phase,liste_en_cours):\n",
    "    for i in solution[phase]:\n",
    "        if temps_restant[i][phase] != 0:\n",
    "            if i not in liste_en_cours:\n",
    "                etape_suivante = True\n",
    "                for etape in range(0,phase):\n",
    "                    if temps_restant[i][etape]!=0:\n",
    "                        etape_suivante = False\n",
    "                if etape_suivante:\n",
    "                    return i\n",
    "    return None\n",
    " \n",
    "def gen_liste_ope(n_patient):\n",
    "    return [[rd.randint(5,10),rd.randint(10,30),rd.randint(40,120),rd.randint(10,30)] for _ in range(n_patient)]\n",
    "\n",
    "\n",
    "def Cmax(solution,liste_ope,SSPI_cap_pre = 3,SSPI_cap_post =3,salle_op = 4,medecin = 5,anestesiste = 8,brancardier = 2):\n",
    "    n_SSPI_cap_pre = SSPI_cap_pre\n",
    "    n_SSPI_cap_post =SSPI_cap_post\n",
    "    n_salle_op = salle_op\n",
    "    n_medecin = medecin\n",
    "    n_anestesiste = anestesiste\n",
    "    n_brancardier = brancardier\n",
    "    temps_restant = gen_temps_restant(liste_ope)\n",
    "    for i in range (len(temps_restant)-1): \n",
    "        #Ajout temps de nettoyage entre les opérations, solution intermédiaire \n",
    "        #tracé faux si on utilise cette fonction\n",
    "        temps_restant[i][2] += 10 \n",
    "        \n",
    "    fin = False\n",
    "    t = 0\n",
    "    en_cours_brancardage = []\n",
    "    en_cours_SSPI_pre = []\n",
    "    en_cours_operation = []\n",
    "    en_cours_SSPI_post = []\n",
    "    while fin == False:\n",
    "        #Prise en charge\n",
    "        if n_brancardier != 0:\n",
    "            patient = peutetreprisencharge(temps_restant,solution,0,en_cours_brancardage)\n",
    "            if patient != None:\n",
    "                en_cours_brancardage.append(patient)\n",
    "                n_brancardier -=1\n",
    "\n",
    "        if (n_SSPI_cap_pre != 0) and (n_anestesiste != 0):\n",
    "            patient = peutetreprisencharge(temps_restant,solution,1,en_cours_SSPI_pre)\n",
    "            if patient != None:\n",
    "                en_cours_SSPI_pre.append(patient)\n",
    "                n_SSPI_cap_pre -=1\n",
    "                n_anestesiste -=1\n",
    "\n",
    "        if (n_medecin != 0) and (n_anestesiste !=0) and (n_salle_op != 0):\n",
    "            patient = peutetreprisencharge(temps_restant,solution,2,en_cours_operation)\n",
    "            if patient != None:\n",
    "                en_cours_operation.append(patient)\n",
    "                n_medecin -= 1\n",
    "                n_anestesiste -= 1\n",
    "                n_salle_op -=1\n",
    "\n",
    "        if (n_SSPI_cap_post != 0) and (n_anestesiste != 0):\n",
    "            patient = peutetreprisencharge(temps_restant,solution,3,en_cours_SSPI_post)\n",
    "            if patient != None:\n",
    "                en_cours_SSPI_post.append(patient)\n",
    "                n_SSPI_cap_post -=1\n",
    "                n_anestesiste -=1\n",
    "                \n",
    "        #écoulement du temps\n",
    "        for i in en_cours_brancardage:\n",
    "            temps_restant[i][0] -= 1\n",
    "            if temps_restant[i][0] == 0:\n",
    "                n_brancardier += 1\n",
    "        en_cours_brancardage = [i for i in en_cours_brancardage if temps_restant[i][0] > 0]\n",
    "        for i in en_cours_SSPI_pre:\n",
    "            temps_restant[i][1] -= 1\n",
    "            if temps_restant[i][1] == 0:\n",
    "                n_SSPI_cap_pre += 1\n",
    "                n_anestesiste += 1\n",
    "        en_cours_SSPI_pre = [i for i in en_cours_SSPI_pre if temps_restant[i][1] > 0]\n",
    "\n",
    "\n",
    "        for i in en_cours_operation:\n",
    "            temps_restant[i][2] -= 1\n",
    "            if temps_restant[i][2] == 0:\n",
    "                n_medecin += 1\n",
    "                n_anestesiste += 1\n",
    "                n_salle_op += 1\n",
    "        en_cours_operation = [i for i in en_cours_operation if temps_restant[i][2] > 0]\n",
    "\n",
    "\n",
    "        for i in en_cours_SSPI_post:\n",
    "            temps_restant[i][3] -= 1\n",
    "            if temps_restant[i][3] == 0:\n",
    "                n_SSPI_cap_post += 1\n",
    "                n_anestesiste += 1\n",
    "        en_cours_SSPI_post = [i for i in en_cours_SSPI_post if temps_restant[i][3] > 0]\n",
    "\n",
    "        t+=1\n",
    "        fin = True\n",
    "        for i in range(len(temps_restant)):\n",
    "            if  temps_restant[i][3] != 0:\n",
    "                fin = False\n",
    "    return t\n",
    "\n",
    "def coutAvecRessources(ordo, SSPI_cap_pre = 3,SSPI_cap_post =3,salle_op = 4,medecin = 5,anestesiste = 8,brancardier = 2): \n",
    "    n = len(ordo)\n",
    "    solution = []\n",
    "    for _ in range (4):\n",
    "        solution.append(list(range(n)))\n",
    "\n",
    "    return Cmax(solution, ordo, SSPI_cap_pre = SSPI_cap_pre,SSPI_cap_post =SSPI_cap_post,salle_op = salle_op,medecin = medecin,anestesiste = anestesiste,brancardier = brancardier)\n"
   ]
  },
  {
   "cell_type": "markdown",
   "id": "6f10e6bc",
   "metadata": {},
   "source": [
    "## Fonction de calcul de cout (sans ressources) "
   ]
  },
  {
   "cell_type": "code",
   "execution_count": 121,
   "id": "570691cd",
   "metadata": {},
   "outputs": [],
   "source": [
    "#La lecture enchaine les opérations au bloc avec 10 minutes d'écarts (Nettoyage du bloc)\n",
    "#Le principe est de faire en sorte que le brancardage et SSPI d'entrée soit fait pile à tant pour l'opération \n",
    "\n",
    "def Lecture(ordo, h0): \n",
    "    liste = [[h0-ordo[0][0]-ordo[0][1], h0-ordo[0][1], h0, h0 + ordo[0][2]]]\n",
    "    n = len(ordo)\n",
    "    i = 1\n",
    "    while i < n : \n",
    "        tBlocLibre = liste[-1][2] + ordo[i-1][2] + 10 #10 minutes après la fin de l'opération précédente \n",
    "        li = [tBlocLibre-ordo[i][0]-ordo[i][1], tBlocLibre-ordo[i][1], tBlocLibre, tBlocLibre+ordo[i][2]]\n",
    "        liste.append(li)\n",
    "        i+=1\n",
    "    return liste\n",
    "             \n",
    "# Calcul le cout temporel total (du premier brancardage au dernier réveil en SSPI) \n",
    "# et le temps passé en bloc (de h0 à sorti de la dernière opération)\n",
    "def cout(ordo): \n",
    "    liste = Lecture(ordo, 0)\n",
    "    debutPremierActe = 0 \n",
    "    finDernierActe = 0 \n",
    "    ifinal = 0 \n",
    "    \n",
    "    for i in range (len(liste)) : \n",
    "        debutPremierActe = min(liste[i][0], debutPremierActe)\n",
    "        finDernierActe = max(liste[i][3]+ordo[i][3], finDernierActe)\n",
    "            \n",
    "    coutTotal = finDernierActe - debutPremierActe \n",
    "    coutBloc = liste[-1][3] \n",
    "    return coutTotal, coutBloc"
   ]
  },
  {
   "cell_type": "markdown",
   "id": "bb544293",
   "metadata": {},
   "source": [
    "#### test de la fonction cout "
   ]
  },
  {
   "cell_type": "code",
   "execution_count": 122,
   "id": "c1b1c4c5",
   "metadata": {},
   "outputs": [],
   "source": [
    "ordo = gen_liste_ope(10)"
   ]
  },
  {
   "cell_type": "code",
   "execution_count": 123,
   "id": "a74461d4",
   "metadata": {
    "scrolled": true
   },
   "outputs": [
    {
     "data": {
      "image/png": "[encoded data removed]",
      "text/plain": [
       "<Figure size 720x432 with 1 Axes>"
      ]
     },
     "metadata": {
      "needs_background": "light"
     },
     "output_type": "display_data"
    },
    {
     "name": "stdout",
     "output_type": "stream",
     "text": [
      "(1015, 970)\n",
      "\n",
      "\n",
      "364\n"
     ]
    }
   ],
   "source": [
    "diagrammeGantt(ordo)\n",
    "print(cout(ordo))\n",
    "print(\"\\n\")\n",
    "print(coutAvecRessources(ordo, medecin = 4, anestesiste = 7, brancardier = 2))"
   ]
  },
  {
   "cell_type": "markdown",
   "id": "3b872a9e",
   "metadata": {},
   "source": [
    "## Affichage de l'ordonnancement"
   ]
  },
  {
   "cell_type": "code",
   "execution_count": 124,
   "id": "9a1d68c7",
   "metadata": {},
   "outputs": [],
   "source": [
    "def diagrammeGantt(ordo):\n",
    "    starts = Lecture(ordo,25)\n",
    "    couleurs = ['blue', 'red', 'green', 'yellow', 'black', 'purple', 'pink', 'orange', 'grey', 'brown']  # Couleurs pour les tâches\"\n",
    "    Machines = [\"Brancardage\", \"SSPI Entrée\", \"Bloc\", \"SSPI Réveil\"]\n",
    "\n",
    "    fig, ax = plt.subplots(figsize=(10, 6))\n",
    "    \n",
    "    for indicePatient, patient in enumerate(ordo):\n",
    "        for i, tempsTache in enumerate(patient):\n",
    "            ax.barh(f'{Machines[i]}', tempsTache, left=starts[indicePatient][i], color=couleurs[indicePatient%10])\n",
    "\n",
    "    ax.set_xlabel('Temps')\n",
    "    ax.set_ylabel('Machines')\n",
    "    ax.set_title('Diagramme de Gantt')\n",
    "    ax.invert_yaxis()  # Inverser l'axe Y pour avoir la machine 1 en haut\n",
    "\n",
    "    plt.show()"
   ]
  },
  {
   "cell_type": "markdown",
   "id": "fdf47807",
   "metadata": {},
   "source": [
    "## Algorithme Génétique "
   ]
  },
  {
   "cell_type": "code",
   "execution_count": 389,
   "id": "9367e83e",
   "metadata": {},
   "outputs": [],
   "source": [
    "#Ensemble de fonctions intermédiaires \n",
    "#Création d'une population Initiale (par permutation des patients)\n",
    "def PopulationInitiale(ordo, N): \n",
    "    n = len(ordo)\n",
    "    listeNpermutations = []\n",
    "    for _ in range (N): \n",
    "        ordoPermut = copy.deepcopy(ordo)\n",
    "        random.shuffle(ordoPermut)\n",
    "        listeNpermutations.append(ordoPermut)\n",
    "        \n",
    "    return listeNpermutations\n",
    " \n",
    "\n",
    "#Selection pondérée\n",
    "def SelectionPondere(population ,N, compteur_cout):  \n",
    "    population.sort(key=lambda x : coutAvecRessources(x))\n",
    "    n = len(population)\n",
    "    compteur_cout+= n*np.log(n)\n",
    "    selection = []\n",
    "    CoutMin = coutAvecRessources(population[0])\n",
    "    compteur_cout+= 1\n",
    "    i = 0 \n",
    "    Ninit = len(population)\n",
    "    while i < Ninit and len(selection)<N: \n",
    "        Cout = coutAvecRessources(population[i])\n",
    "        compteur_cout+= 1\n",
    "        prob = CoutMin/Cout\n",
    "        if random.random() < prob : \n",
    "            selection.append(Cout)\n",
    "        i+=1 \n",
    "    \n",
    "    while len(selection) < N : \n",
    "        NewPers = list.copy(population[0])\n",
    "        random.shuffle(NewPers)\n",
    "        selection.append(NewPers)\n",
    "    \n",
    "    return population, compteur_cout\n",
    "\n",
    "\n",
    "def Croisement(P1, P2): \n",
    "    k = len(P1)\n",
    "    if k <=3 : \n",
    "        if random.random()>=0.5 : return P1 \n",
    "        else : return P2\n",
    "        \n",
    "    else : \n",
    "        E1 = list.copy(P1)\n",
    "        E2 = list.copy(P2)\n",
    "        J = random.randint(0, k-3)\n",
    "        #récuperation des indices dans E2 correspondants aux gènes échangés avec E1\n",
    "        ListeIndiceGene = []\n",
    "        geneManquantE2 = E2[J:J+2]\n",
    "        geneManquantE2prime = E2[J:J+2]\n",
    "        \n",
    "        for j in range (J,J+2):\n",
    "            gene = E1[j]\n",
    "            i = 0 \n",
    "            bool = True\n",
    "            while i<k and bool : \n",
    "                if E2[i] == gene :\n",
    "                    if J <= i and i <=J+1 :\n",
    "                        if len(geneManquantE2) > 1 :geneManquantE2.pop(i-J)\n",
    "                        else : geneManquantE2 = []\n",
    "                            \n",
    "                    else : \n",
    "                        ListeIndiceGene.append(i)\n",
    "                    bool = False \n",
    "                i+=1\n",
    "        \n",
    "        #échange des gènes pour E2 \n",
    "        E2[J:J+2] = E1[J:J+2]\n",
    "        for gene in geneManquantE2 : \n",
    "            E2[ListeIndiceGene.pop(random.randint(0,len(ListeIndiceGene)-1))] = gene \n",
    "            \n",
    "        #récupération des indices dans E1 correspondants aux gènes échangés avec E2 \n",
    "        ListeIndiceGene = []\n",
    "        geneManquantE1 = E1[J:J+2]\n",
    "        \n",
    "        for gene in geneManquantE2prime :\n",
    "            i = 0 \n",
    "            bool = True\n",
    "            while i<k and bool : \n",
    "                if E1[i] == gene :\n",
    "                    if J <= i and i <=J+1 :\n",
    "                        if len(geneManquantE1) > 1 :geneManquantE1.pop(i-J)\n",
    "                        else : geneManquantE1 = []\n",
    " \n",
    "                    else : \n",
    "                        ListeIndiceGene.append(i)\n",
    "                    bool = False \n",
    "                i+=1\n",
    "                \n",
    "        #échange des gènes pour E1   \n",
    "\n",
    "        E1[J:J+2] = geneManquantE2prime\n",
    "        for gene in geneManquantE1 : \n",
    "            E1[ListeIndiceGene.pop(random.randint(0,len(ListeIndiceGene)-1))] = gene \n",
    "            \n",
    "    return E1,E2 \n",
    "\n",
    "\n",
    "def Mutation(p): \n",
    "    j = random.randint(1,len(p)-1) \n",
    "    geneJ = p[j]\n",
    "    p[j] = p[j-1]\n",
    "    p[j-1]= geneJ\n",
    "    return p\n",
    "\n",
    "#Algorithme Final\n",
    "\n",
    "def Genetique(ordo, N, T,Pcross = 0.6, Pmut = 0.6): #N card de la population (paire)\n",
    "    t = 0 \n",
    "    compteur_cout = 0 \n",
    "    population = PopulationInitiale(ordo,N)\n",
    "    \n",
    "    while t < T : \n",
    "        #selection des N meilleurs ordonnancements \n",
    "        selection, compteur_cout = SelectionPondere(population, N, compteur_cout)\n",
    "        \n",
    "        #regroupement par paire\n",
    "        paireParIndex = []\n",
    "        reserve = list(range(N))\n",
    "        N2 = N//2\n",
    "        for i in range (N2): \n",
    "            coupleI = (reserve.pop(random.randint(0,len(reserve)-1)),reserve.pop(random.randint(0,len(reserve)-1)))\n",
    "            paireParIndex.append(coupleI)\n",
    "        \n",
    "        #Croisements  \n",
    "        populationIntermediaire = []\n",
    "        for I in paireParIndex : \n",
    "            E1,E2 = Croisement(selection[I[0]], selection[I[1]])\n",
    "            populationIntermediaire.append(E1)\n",
    "            populationIntermediaire.append(E2)\n",
    "            populationIntermediaire.append(selection[I[0]])\n",
    "            populationIntermediaire.append(selection[I[1]])\n",
    "                \n",
    "        \n",
    "        #Mutations \n",
    "        population = []\n",
    "        for p in populationIntermediaire :\n",
    "            population.append(Mutation(p))\n",
    "            population.append(p)\n",
    "        \n",
    "        t+=1 \n",
    "    \n",
    "    Cmax = coutAvecRessources(population[0])\n",
    "    compteur_cout+=1\n",
    "    index = 0\n",
    "    for i in range (1,len(population)): \n",
    "        CmaxPrime = coutAvecRessources(population[i])\n",
    "        compteur_cout+=1\n",
    "        if CmaxPrime < Cmax : \n",
    "            Cmax = CmaxPrime\n",
    "            index = i \n",
    "\n",
    "    return population[index], i nt(compteur_cout)"
   ]
  },
  {
   "cell_type": "markdown",
   "id": "6c8778ea",
   "metadata": {},
   "source": [
    "## Algorithme Tabou"
   ]
  },
  {
   "cell_type": "code",
   "execution_count": 384,
   "id": "801a460f",
   "metadata": {},
   "outputs": [],
   "source": [
    "def genere_voisin(sol):\n",
    "    sol_copy=sol.copy()\n",
    "    n1, n2 = np.random.choice(len(sol), 2, replace=False)\n",
    "    sol_copy[n1],sol_copy[n2]=sol_copy[n2],sol_copy[n1]\n",
    "    return sol_copy,n1,n2\n",
    "\n",
    "#Algorithme Final\n",
    "def Tabou(ordo,nb_voisins=10,nb_iter=50,d=2):\n",
    "    p=0\n",
    "    compteur_cout = 0 \n",
    "    liste_tabou=[]\n",
    "    k=0\n",
    "    while k<nb_iter:\n",
    "        p+=1\n",
    "        if p%2==0:\n",
    "            liste_tabou=[]\n",
    "        k+=1\n",
    "        liste_voisins=[]\n",
    "        for i in range (nb_voisins):\n",
    "            voisin,n1,n2=genere_voisin(ordo)\n",
    "            liste_voisins.append([voisin,n1,n2])\n",
    "            liste_voisins.sort(key=lambda x : coutAvecRessources(x[0]))\n",
    "            n= len(liste_voisins)\n",
    "            compteur_cout+=n*np.log(n)\n",
    "            \n",
    "        j=0\n",
    "        while (liste_voisins[j][1],liste_voisins[j][2]) in liste_tabou and j<len(liste_voisins)-1:\n",
    "            j+=1\n",
    "        if j==len(liste_voisins):\n",
    "            x,y,z=liste_voisins[0]\n",
    "            liste_tabou.append((z,y))   ### (on ajoute z,y et non pas y,z pour interdire le mouvement inverse)\n",
    "            ordo=x\n",
    "        else:\n",
    "            x,y,z=liste_voisins[j]\n",
    "            liste_tabou.append((z,y))\n",
    "            ordo=x\n",
    "    return ordo, int(compteur_cout)"
   ]
  },
  {
   "cell_type": "markdown",
   "id": "b797f89e",
   "metadata": {},
   "source": [
    "## Algorithme Recuit Simulé "
   ]
  },
  {
   "cell_type": "code",
   "execution_count": 357,
   "id": "f2c4ab26",
   "metadata": {},
   "outputs": [],
   "source": [
    "def gen_solution_initiale(n_patient): \n",
    "    solution = [list(range(n_patient)) for _ in range (4)]\n",
    "    for l in solution : \n",
    "        rd.shuffle(l)\n",
    "    return solution\n",
    "\n",
    "def solution_voisine(solution, liste_ope):\n",
    "    phase = random.randint(0,n_phase-1)\n",
    "    possibility = [k for k in range(n_patient)]\n",
    "    i_patient1 = random.choice(possibility)\n",
    "    possibility.remove(i_patient1)\n",
    "    i_patient2 = random.choice(possibility)\n",
    "    n_solution = copy.deepcopy(solution)\n",
    "    n_solution[phase][i_patient1]=solution[phase][i_patient2]\n",
    "    n_solution[phase][i_patient2]=solution[phase][i_patient1]\n",
    "    return n_solution\n",
    "\n",
    "def Recuit(ordo,n_phase,n_iter,fact_refroid):\n",
    "    temperature = 10000\n",
    "    n_patient = len(ordo)\n",
    "    solution = gen_solution_initiale(n_patient)\n",
    "    energie = Cmax(solution, ordo)\n",
    "    for _ in range(n_iter):\n",
    "        n_solution = solution_voisine(solution, ordo)\n",
    "        energie_voisine = Cmax(n_solution, ordo)\n",
    "        delta_e = (energie_voisine - energie)\n",
    "        facteur = -delta_e/(k*temperature)\n",
    "        if facteur > 0:\n",
    "            probability =1\n",
    "        elif facteur < -300 :\n",
    "            probabily = 0\n",
    "        else :\n",
    "            probability = np.exp(facteur)\n",
    "        if rd.random() < probability:\n",
    "            solution = n_solution\n",
    "            energie = energie_voisine\n",
    "        temperature *= fact_refroid\n",
    "        \n",
    "    print(energie)\n",
    "    print(temperature)\n",
    "    return solution,energie "
   ]
  },
  {
   "cell_type": "markdown",
   "id": "39f6217d",
   "metadata": {},
   "source": [
    "### Test des algo"
   ]
  },
  {
   "cell_type": "code",
   "execution_count": 366,
   "id": "2a1f8f7b",
   "metadata": {},
   "outputs": [
    {
     "name": "stdout",
     "output_type": "stream",
     "text": [
      "570\n"
     ]
    }
   ],
   "source": [
    "ordoBase = gen_liste_ope(20)\n",
    "print(coutAvecRessources(ordoBase))"
   ]
  },
  {
   "cell_type": "code",
   "execution_count": 392,
   "id": "df1d0c6b",
   "metadata": {},
   "outputs": [
    {
     "name": "stdout",
     "output_type": "stream",
     "text": [
      "542 1649\n"
     ]
    }
   ],
   "source": [
    "solAG, cout = Genetique(ordoBase, 20, 5)\n",
    "print(coutAvecRessources(solAG),cout)"
   ]
  },
  {
   "cell_type": "code",
   "execution_count": 397,
   "id": "9a1d0f25",
   "metadata": {},
   "outputs": [
    {
     "name": "stdout",
     "output_type": "stream",
     "text": [
      "540 1020\n"
     ]
    }
   ],
   "source": [
    "solT ,cout= Tabou(ordoBase, 10, 10)\n",
    "print(coutAvecRessources(solT), cout)"
   ]
  },
  {
   "cell_type": "markdown",
   "id": "5726d93a",
   "metadata": {},
   "source": [
    "## Comparaison des algos"
   ]
  },
  {
   "cell_type": "code",
   "execution_count": 423,
   "id": "abbd3f90",
   "metadata": {},
   "outputs": [],
   "source": [
    "def comparaison(N_patient, N_repetition): \n",
    "    ordoBase = gen_liste_ope(N_patient)\n",
    "    moyenne1= 0 \n",
    "    moyenne2 = 0 \n",
    "    for _ in range (N_repetition): \n",
    "        ordo1, complexite1 = Genetique(ordoBase, 20, 10)\n",
    "        ordo2, complexite2 = Genetique(ordoBase, 20,20)\n",
    "        cmax1 = coutAvecRessources(ordo1)\n",
    "        cmax2 = coutAvecRessources(ordo2)\n",
    "        moyenne1 += cmax1\n",
    "        moyenne2 += cmax2\n",
    "    \n",
    "    moyenne1 /= N_repetition\n",
    "    moyenne2 /= N_repetition\n",
    "    return moyenne1, complexite1, moyenne2, complexite2"
   ]
  },
  {
   "cell_type": "code",
   "execution_count": 424,
   "id": "6647f79a",
   "metadata": {},
   "outputs": [
    {
     "name": "stdout",
     "output_type": "stream",
     "text": [
      "(504.15, 3507, 500.9, 7221)\n"
     ]
    }
   ],
   "source": [
    "print(comparaison(20,20))"
   ]
  },
  {
   "cell_type": "code",
   "execution_count": 425,
   "id": "30d9f28d",
   "metadata": {},
   "outputs": [],
   "source": [
    "def ecart_type(N_patient, N_repetition): \n",
    "    ordoBase = gen_liste_ope(N_patient)\n",
    "    liste_cmax = []\n",
    "    for _ in range (N_repetition): \n",
    "        ordo1, complexite1 = Genetique(ordoBase, 20, 10)\n",
    "        cmax1 = coutAvecRessources(ordo1)\n",
    "        liste_cmax.append(cmax1) \n",
    "    \n",
    "    liste_cmax = np.array(liste_cmax)\n",
    "    moyenne1 = np.sum(liste_cmax)/N_repetition\n",
    "    ecart_type = np.sqrt(np.sum((liste_cmax - moyenne1*np.ones(N_repetition))**2))\n",
    "    return ecart_type\n"
   ]
  },
  {
   "cell_type": "code",
   "execution_count": 426,
   "id": "3edeb804",
   "metadata": {},
   "outputs": [
    {
     "name": "stdout",
     "output_type": "stream",
     "text": [
      "13.535139452550904\n"
     ]
    }
   ],
   "source": [
    "print(ecart_type(20, 20))"
   ]
  }
 ],
 "metadata": {
  "kernelspec": {
   "display_name": "Python 3 (ipykernel)",
   "language": "python",
   "name": "python3"
  },
  "language_info": {
   "codemirror_mode": {
    "name": "ipython",
    "version": 3
   },
   "file_extension": ".py",
   "mimetype": "text/x-python",
   "name": "python",
   "nbconvert_exporter": "python",
   "pygments_lexer": "ipython3",
   "version": "3.9.12"
  }
 },
 "nbformat": 4,
 "nbformat_minor": 5
}
